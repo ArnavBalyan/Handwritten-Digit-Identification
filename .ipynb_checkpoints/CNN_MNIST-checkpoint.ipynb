{
 "cells": [
  {
   "cell_type": "code",
   "execution_count": 1,
   "metadata": {},
   "outputs": [
    {
     "name": "stdout",
     "output_type": "stream",
     "text": [
      "WARNING:tensorflow:From C:\\Users\\Arnav\\Anaconda3\\envs\\gpu\\lib\\site-packages\\tensorflow_core\\python\\compat\\v2_compat.py:88: disable_resource_variables (from tensorflow.python.ops.variable_scope) is deprecated and will be removed in a future version.\n",
      "Instructions for updating:\n",
      "non-resource variables are not supported in the long term\n"
     ]
    }
   ],
   "source": [
    "import tensorflow.compat.v1 as tf\n",
    "tf.disable_v2_behavior()"
   ]
  },
  {
   "cell_type": "code",
   "execution_count": 3,
   "metadata": {},
   "outputs": [
    {
     "name": "stdout",
     "output_type": "stream",
     "text": [
      "Extracting MNIST_data/train-images-idx3-ubyte.gz\n",
      "Extracting MNIST_data/train-labels-idx1-ubyte.gz\n",
      "Extracting MNIST_data/t10k-images-idx3-ubyte.gz\n",
      "Extracting MNIST_data/t10k-labels-idx1-ubyte.gz\n"
     ]
    }
   ],
   "source": [
    "from tensorflow.examples.tutorials.mnist import input_data\n",
    "mnist = input_data.read_data_sets(\"MNIST_data/\",one_hot = True)"
   ]
  },
  {
   "cell_type": "code",
   "execution_count": 4,
   "metadata": {},
   "outputs": [],
   "source": [
    "input_width = 28\n",
    "input_height = 28\n",
    "channels = 1\n",
    "input_pixels = 784\n",
    "\n",
    "conv1 = 32\n",
    "conv2 = 64\n",
    "stride1 = 1\n",
    "stride2 = 1\n",
    "filter1 = 5\n",
    "filter2 = 5\n",
    "maxpool1=2\n",
    "maxpool2=2\n",
    "\n",
    "hidden1 = 1024\n",
    "out = 10\n",
    "inputsizetohid = (input_width//(maxpool1*maxpool2)) * (input_height//(maxpool1*maxpool2)) *conv2"
   ]
  },
  {
   "cell_type": "code",
   "execution_count": 5,
   "metadata": {},
   "outputs": [],
   "source": [
    "weights = {\n",
    "    \"wc1\" : tf.Variable(tf.random.normal([filter1,filter1,channels,conv1])),\n",
    "    \"wc2\" : tf.Variable(tf.random.normal([filter2,filter2,conv1,conv2])),\n",
    "    \"wh1\" : tf.Variable(tf.random.normal([inputsizetohid,hidden1])),\n",
    "    \"wo\" : tf.Variable(tf.random.normal([hidden1,out]))\n",
    "}\n",
    "\n",
    "biases = {\n",
    "        \"bc1\" : tf.Variable(tf.random.normal([conv1])),\n",
    "        \"bc2\" : tf.Variable(tf.random.normal([conv2])),\n",
    "        \"bh1\" : tf.Variable(tf.random.normal([hidden1])),\n",
    "        \"bo\" : tf.Variable(tf.random.normal([out]))\n",
    "\n",
    "}"
   ]
  },
  {
   "cell_type": "code",
   "execution_count": 6,
   "metadata": {},
   "outputs": [],
   "source": [
    "def conv(x,weights,bias,strides = 1):\n",
    "    out = tf.nn.conv2d(x,weights,padding=\"SAME\", strides = [1,strides,strides,1])\n",
    "    out = tf.nn.bias_add(out,bias)\n",
    "    out = tf.nn.relu(out)\n",
    "    return out\n",
    "\n",
    "def maxpooling(x,k=2):\n",
    "    return  tf.nn.max_pool(x,padding = \"SAME\", ksize = [1,k,k,1], strides = [1,k,k,1])"
   ]
  },
  {
   "cell_type": "code",
   "execution_count": 7,
   "metadata": {},
   "outputs": [],
   "source": [
    "def cnn(x, weights, biases,keep_prob):\n",
    "    x = tf.reshape(x, shape = [-1 ,input_height, input_width,channels])\n",
    "    convv1 = conv(x, weights['wc1'], biases['bc1'], stride1)\n",
    "    conv1_pool = maxpooling(convv1, maxpool1)\n",
    "    \n",
    "    convv2 = conv(conv1_pool, weights['wc2'], biases['bc2'], stride2)\n",
    "    conv2_pool = maxpooling(convv2, maxpool2)\n",
    "    \n",
    "    hidden_input = tf.reshape(conv2_pool, shape = [-1, inputsizetohid])\n",
    "    hidden_output_before_activation = tf.add(tf.matmul(hidden_input, weights['wh1']), biases['bh1'])\n",
    "    hidden_output_before_dropout = tf.nn.relu(hidden_output_before_activation)\n",
    "    hidden_output = tf.nn.dropout(hidden_output_before_dropout,keep_prob) \n",
    "   \n",
    "    output = tf.add(tf.matmul(hidden_output, weights['wo']), biases['bo'])\n",
    "    return output"
   ]
  },
  {
   "cell_type": "code",
   "execution_count": 8,
   "metadata": {},
   "outputs": [
    {
     "name": "stdout",
     "output_type": "stream",
     "text": [
      "WARNING:tensorflow:From <ipython-input-7-ca55bdec2801>:12: calling dropout (from tensorflow.python.ops.nn_ops) with keep_prob is deprecated and will be removed in a future version.\n",
      "Instructions for updating:\n",
      "Please use `rate` instead of `keep_prob`. Rate should be set to `rate = 1 - keep_prob`.\n"
     ]
    }
   ],
   "source": [
    "x = tf.placeholder(\"float\", [None, input_pixels])\n",
    "y = tf.placeholder(tf.int32, [None, out])\n",
    "keep_prob = tf.placeholder(\"float\")\n",
    "pred = cnn(x,weights,biases,keep_prob)"
   ]
  },
  {
   "cell_type": "code",
   "execution_count": 9,
   "metadata": {},
   "outputs": [],
   "source": [
    "cost = tf.nn.softmax_cross_entropy_with_logits_v2(logits=pred,labels=y)"
   ]
  },
  {
   "cell_type": "code",
   "execution_count": 10,
   "metadata": {},
   "outputs": [],
   "source": [
    "optimizer = tf.train.AdamOptimizer(learning_rate = 0.01)\n",
    "optimize = optimizer.minimize(cost)"
   ]
  },
  {
   "cell_type": "code",
   "execution_count": 11,
   "metadata": {},
   "outputs": [],
   "source": [
    "sess = tf.Session()\n",
    "sess.run(tf.global_variables_initializer())"
   ]
  },
  {
   "cell_type": "code",
   "execution_count": 12,
   "metadata": {},
   "outputs": [
    {
     "name": "stdout",
     "output_type": "stream",
     "text": [
      "0 1 2 3 4 5 6 7 8 9 10 11 12 13 14 15 16 17 18 19 20 21 22 23 24 25 26 27 28 29 30 31 32 33 34 35 36 37 "
     ]
    }
   ],
   "source": [
    "batch = 100\n",
    "for i in range (38):\n",
    "    print(i,end=' ')\n",
    "    num_batches = int(mnist.train.num_examples/batch)\n",
    "    total_cost = 0\n",
    "    for j in range(num_batches):\n",
    "        #print('#', end='')\n",
    "        batch_x, batch_y = mnist.train.next_batch(batch)\n",
    "        c, _ = sess.run([cost,optimize], feed_dict = {x:batch_x, y:batch_y,keep_prob:0.8})\n",
    "        total_cost+=c"
   ]
  },
  {
   "cell_type": "code",
   "execution_count": 13,
   "metadata": {},
   "outputs": [
    {
     "data": {
      "text/plain": [
       "9854"
      ]
     },
     "execution_count": 13,
     "metadata": {},
     "output_type": "execute_result"
    }
   ],
   "source": [
    "predictions = tf.argmax(pred, 1)\n",
    "correct_labels = tf.argmax(y, 1)\n",
    "correct_predictions = tf.equal(predictions, correct_labels)\n",
    "predictions,correct_preds  = sess.run([predictions, correct_predictions], feed_dict={x:mnist.test.images,\n",
    "                                              y:mnist.test.labels, keep_prob:1.0})\n",
    "correct_preds.sum()"
   ]
  },
  {
   "cell_type": "code",
   "execution_count": 14,
   "metadata": {},
   "outputs": [
    {
     "data": {
      "text/plain": [
       "0.9854"
      ]
     },
     "execution_count": 14,
     "metadata": {},
     "output_type": "execute_result"
    }
   ],
   "source": [
    "accuracy = correct_preds.sum()/10000\n",
    "accuracy"
   ]
  }
 ],
 "metadata": {
  "kernelspec": {
   "display_name": "gpu",
   "language": "python",
   "name": "gpu"
  },
  "language_info": {
   "codemirror_mode": {
    "name": "ipython",
    "version": 3
   },
   "file_extension": ".py",
   "mimetype": "text/x-python",
   "name": "python",
   "nbconvert_exporter": "python",
   "pygments_lexer": "ipython3",
   "version": "3.7.6"
  }
 },
 "nbformat": 4,
 "nbformat_minor": 4
}
